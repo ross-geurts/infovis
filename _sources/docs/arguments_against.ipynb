{
 "cells": [
  {
   "attachments": {},
   "cell_type": "markdown",
   "metadata": {},
   "source": [
    "# Agriculture Needs Change\n",
    "\n",
    "In this section, we will outline several arguments against the continuing greenhouse gas emission by the agricultural sector. This is done using three different arguments. We will first look al the dangers of nitrous oxide emission compared to carbondioxide emission, before we take a look at the increasing N2O emission by agricultural companies. Lastly, we will take a look at the role that the agricultural sector, especially livestock, plays in the export of goods by the Netherlands. "
   ]
  },
  {
   "attachments": {},
   "cell_type": "markdown",
   "metadata": {},
   "source": [
    "## Emission by the agricultural sector compared to others\n",
    "First of all, it is shown in figure 5 that the emission by the agricultural sector are less than the other sectors. However, the agricultural sector is emitting a significantly larger amount of N2O, so we should take a closer look to see if the agriculture sector is really that damaging.  \n",
    "\n",
    "Since the agriculture sector emits more N2O than the other sectors, we will shift focus onto that greenhouse gas. While the N2O emission is low, the gas is 265 times as damaging to our climate as CO2 <a href='https://www.epa.gov/ghgemissions/overview-greenhouse-gases'>(US EPA, 2023)</a>. In 2015, 21.19 million kgs of nitrous oxide would be equal to 5615,35 million kgs of carbon dioxide, which would make the overall emission of the agriculture sector more than the petroleum sector, which is cause for concern. But why is N2O that damaging?\n",
    "\n",
    "Both carbon dioxide and nitrous oxide are greenhouse gases and are damaging to the current climate, as they trap heat inside the atmosphere. Nitrous oxide is especially damaging as it can turn into nitrogen oxide (NO2) when exposed to sunlight and oxygen, NO2 not only damages the ozone layer <a href='https://insideclimatenews.org/news/11092019/nitrous-oxide-climate-pollutant-explainer-greenhouse-gas-agriculture-livestock/'>(Shankman, 2020)</a>, but is changing biodiversity. Whenever NO2 comes into contact with grass and other plants that love nitrogen, it causes them to overrun plants that do not rely on nitrogen and insect species to disappear <a href='https://www.milieucentraal.nl/klimaat-en-aarde/milieuproblemen/stikstof-in-de-lucht-en-bodem/'>(Milieu Centraal, n.d.)</a>.   \n",
    "\n",
    "Considering these facts, it is safe to say that it is not only necessary to reduce carbon dioxide emission in the agricultural sectors, but nitrous oxide emission as well."
   ]
  },
  {
   "cell_type": "code",
   "execution_count": 18,
   "metadata": {
    "tags": [
     "hide-input"
    ]
   },
   "outputs": [
    {
     "data": {
      "application/vnd.plotly.v1+json": {
       "config": {
        "plotlyServerURL": "https://plot.ly"
       },
       "data": [
        {
         "marker": {
          "color": "#db5c68"
         },
         "name": "CO2",
         "type": "bar",
         "x": [
          1990,
          1995,
          2000,
          2005,
          2010,
          2015
         ],
         "xaxis": "x",
         "y": [
          11040,
          11620,
          12400,
          12380,
          10630,
          11040
         ],
         "yaxis": "y"
        },
        {
         "marker": {
          "color": "#8b0aa5"
         },
         "name": "N2O",
         "type": "bar",
         "x": [
          1990,
          1995,
          2000,
          2005,
          2010,
          2015
         ],
         "xaxis": "x",
         "y": [
          0.05,
          0.05,
          0.04,
          0.04,
          0.02,
          0.03
         ],
         "yaxis": "y"
        },
        {
         "marker": {
          "color": "#db5c68"
         },
         "name": "CO2",
         "showlegend": false,
         "type": "bar",
         "x": [
          1990,
          1995,
          2000,
          2005,
          2010,
          2015
         ],
         "xaxis": "x2",
         "y": [
          39810,
          47890,
          48430,
          52230,
          52000,
          53190
         ],
         "yaxis": "y2"
        },
        {
         "marker": {
          "color": "#8b0aa5"
         },
         "name": "N2O",
         "showlegend": false,
         "type": "bar",
         "x": [
          1990,
          1995,
          2000,
          2005,
          2010,
          2015
         ],
         "xaxis": "x2",
         "y": [
          0.38,
          0.41,
          0.38,
          0.5,
          0.46,
          0.56
         ],
         "yaxis": "y2"
        },
        {
         "marker": {
          "color": "#db5c68"
         },
         "name": "CO2",
         "showlegend": false,
         "type": "bar",
         "x": [
          1990,
          1995,
          2000,
          2005,
          2010,
          2015
         ],
         "xaxis": "x3",
         "y": [
          7740,
          8250,
          7490,
          7410,
          9510,
          7320
         ],
         "yaxis": "y3"
        },
        {
         "marker": {
          "color": "#8b0aa5"
         },
         "name": "N2O",
         "showlegend": false,
         "type": "bar",
         "x": [
          1990,
          1995,
          2000,
          2005,
          2010,
          2015
         ],
         "xaxis": "x3",
         "y": [
          34.1,
          33.83,
          27.89,
          23.52,
          20.97,
          21.19
         ],
         "yaxis": "y3"
        }
       ],
       "layout": {
        "annotations": [
         {
          "font": {
           "size": 16
          },
          "showarrow": false,
          "text": "Petroleum",
          "x": 0.14444444444444446,
          "xanchor": "center",
          "xref": "paper",
          "y": 1,
          "yanchor": "bottom",
          "yref": "paper"
         },
         {
          "font": {
           "size": 16
          },
          "showarrow": false,
          "text": "Energy",
          "x": 0.5,
          "xanchor": "center",
          "xref": "paper",
          "y": 1,
          "yanchor": "bottom",
          "yref": "paper"
         },
         {
          "font": {
           "size": 16
          },
          "showarrow": false,
          "text": "Agriculture",
          "x": 0.8555555555555556,
          "xanchor": "center",
          "xref": "paper",
          "y": 1,
          "yanchor": "bottom",
          "yref": "paper"
         }
        ],
        "barmode": "stack",
        "height": 600,
        "template": {
         "data": {
          "bar": [
           {
            "error_x": {
             "color": "#2a3f5f"
            },
            "error_y": {
             "color": "#2a3f5f"
            },
            "marker": {
             "line": {
              "color": "#E5ECF6",
              "width": 0.5
             },
             "pattern": {
              "fillmode": "overlay",
              "size": 10,
              "solidity": 0.2
             }
            },
            "type": "bar"
           }
          ],
          "barpolar": [
           {
            "marker": {
             "line": {
              "color": "#E5ECF6",
              "width": 0.5
             },
             "pattern": {
              "fillmode": "overlay",
              "size": 10,
              "solidity": 0.2
             }
            },
            "type": "barpolar"
           }
          ],
          "carpet": [
           {
            "aaxis": {
             "endlinecolor": "#2a3f5f",
             "gridcolor": "white",
             "linecolor": "white",
             "minorgridcolor": "white",
             "startlinecolor": "#2a3f5f"
            },
            "baxis": {
             "endlinecolor": "#2a3f5f",
             "gridcolor": "white",
             "linecolor": "white",
             "minorgridcolor": "white",
             "startlinecolor": "#2a3f5f"
            },
            "type": "carpet"
           }
          ],
          "choropleth": [
           {
            "colorbar": {
             "outlinewidth": 0,
             "ticks": ""
            },
            "type": "choropleth"
           }
          ],
          "contour": [
           {
            "colorbar": {
             "outlinewidth": 0,
             "ticks": ""
            },
            "colorscale": [
             [
              0,
              "#0d0887"
             ],
             [
              0.1111111111111111,
              "#46039f"
             ],
             [
              0.2222222222222222,
              "#7201a8"
             ],
             [
              0.3333333333333333,
              "#9c179e"
             ],
             [
              0.4444444444444444,
              "#bd3786"
             ],
             [
              0.5555555555555556,
              "#d8576b"
             ],
             [
              0.6666666666666666,
              "#ed7953"
             ],
             [
              0.7777777777777778,
              "#fb9f3a"
             ],
             [
              0.8888888888888888,
              "#fdca26"
             ],
             [
              1,
              "#f0f921"
             ]
            ],
            "type": "contour"
           }
          ],
          "contourcarpet": [
           {
            "colorbar": {
             "outlinewidth": 0,
             "ticks": ""
            },
            "type": "contourcarpet"
           }
          ],
          "heatmap": [
           {
            "colorbar": {
             "outlinewidth": 0,
             "ticks": ""
            },
            "colorscale": [
             [
              0,
              "#0d0887"
             ],
             [
              0.1111111111111111,
              "#46039f"
             ],
             [
              0.2222222222222222,
              "#7201a8"
             ],
             [
              0.3333333333333333,
              "#9c179e"
             ],
             [
              0.4444444444444444,
              "#bd3786"
             ],
             [
              0.5555555555555556,
              "#d8576b"
             ],
             [
              0.6666666666666666,
              "#ed7953"
             ],
             [
              0.7777777777777778,
              "#fb9f3a"
             ],
             [
              0.8888888888888888,
              "#fdca26"
             ],
             [
              1,
              "#f0f921"
             ]
            ],
            "type": "heatmap"
           }
          ],
          "heatmapgl": [
           {
            "colorbar": {
             "outlinewidth": 0,
             "ticks": ""
            },
            "colorscale": [
             [
              0,
              "#0d0887"
             ],
             [
              0.1111111111111111,
              "#46039f"
             ],
             [
              0.2222222222222222,
              "#7201a8"
             ],
             [
              0.3333333333333333,
              "#9c179e"
             ],
             [
              0.4444444444444444,
              "#bd3786"
             ],
             [
              0.5555555555555556,
              "#d8576b"
             ],
             [
              0.6666666666666666,
              "#ed7953"
             ],
             [
              0.7777777777777778,
              "#fb9f3a"
             ],
             [
              0.8888888888888888,
              "#fdca26"
             ],
             [
              1,
              "#f0f921"
             ]
            ],
            "type": "heatmapgl"
           }
          ],
          "histogram": [
           {
            "marker": {
             "pattern": {
              "fillmode": "overlay",
              "size": 10,
              "solidity": 0.2
             }
            },
            "type": "histogram"
           }
          ],
          "histogram2d": [
           {
            "colorbar": {
             "outlinewidth": 0,
             "ticks": ""
            },
            "colorscale": [
             [
              0,
              "#0d0887"
             ],
             [
              0.1111111111111111,
              "#46039f"
             ],
             [
              0.2222222222222222,
              "#7201a8"
             ],
             [
              0.3333333333333333,
              "#9c179e"
             ],
             [
              0.4444444444444444,
              "#bd3786"
             ],
             [
              0.5555555555555556,
              "#d8576b"
             ],
             [
              0.6666666666666666,
              "#ed7953"
             ],
             [
              0.7777777777777778,
              "#fb9f3a"
             ],
             [
              0.8888888888888888,
              "#fdca26"
             ],
             [
              1,
              "#f0f921"
             ]
            ],
            "type": "histogram2d"
           }
          ],
          "histogram2dcontour": [
           {
            "colorbar": {
             "outlinewidth": 0,
             "ticks": ""
            },
            "colorscale": [
             [
              0,
              "#0d0887"
             ],
             [
              0.1111111111111111,
              "#46039f"
             ],
             [
              0.2222222222222222,
              "#7201a8"
             ],
             [
              0.3333333333333333,
              "#9c179e"
             ],
             [
              0.4444444444444444,
              "#bd3786"
             ],
             [
              0.5555555555555556,
              "#d8576b"
             ],
             [
              0.6666666666666666,
              "#ed7953"
             ],
             [
              0.7777777777777778,
              "#fb9f3a"
             ],
             [
              0.8888888888888888,
              "#fdca26"
             ],
             [
              1,
              "#f0f921"
             ]
            ],
            "type": "histogram2dcontour"
           }
          ],
          "mesh3d": [
           {
            "colorbar": {
             "outlinewidth": 0,
             "ticks": ""
            },
            "type": "mesh3d"
           }
          ],
          "parcoords": [
           {
            "line": {
             "colorbar": {
              "outlinewidth": 0,
              "ticks": ""
             }
            },
            "type": "parcoords"
           }
          ],
          "pie": [
           {
            "automargin": true,
            "type": "pie"
           }
          ],
          "scatter": [
           {
            "fillpattern": {
             "fillmode": "overlay",
             "size": 10,
             "solidity": 0.2
            },
            "type": "scatter"
           }
          ],
          "scatter3d": [
           {
            "line": {
             "colorbar": {
              "outlinewidth": 0,
              "ticks": ""
             }
            },
            "marker": {
             "colorbar": {
              "outlinewidth": 0,
              "ticks": ""
             }
            },
            "type": "scatter3d"
           }
          ],
          "scattercarpet": [
           {
            "marker": {
             "colorbar": {
              "outlinewidth": 0,
              "ticks": ""
             }
            },
            "type": "scattercarpet"
           }
          ],
          "scattergeo": [
           {
            "marker": {
             "colorbar": {
              "outlinewidth": 0,
              "ticks": ""
             }
            },
            "type": "scattergeo"
           }
          ],
          "scattergl": [
           {
            "marker": {
             "colorbar": {
              "outlinewidth": 0,
              "ticks": ""
             }
            },
            "type": "scattergl"
           }
          ],
          "scattermapbox": [
           {
            "marker": {
             "colorbar": {
              "outlinewidth": 0,
              "ticks": ""
             }
            },
            "type": "scattermapbox"
           }
          ],
          "scatterpolar": [
           {
            "marker": {
             "colorbar": {
              "outlinewidth": 0,
              "ticks": ""
             }
            },
            "type": "scatterpolar"
           }
          ],
          "scatterpolargl": [
           {
            "marker": {
             "colorbar": {
              "outlinewidth": 0,
              "ticks": ""
             }
            },
            "type": "scatterpolargl"
           }
          ],
          "scatterternary": [
           {
            "marker": {
             "colorbar": {
              "outlinewidth": 0,
              "ticks": ""
             }
            },
            "type": "scatterternary"
           }
          ],
          "surface": [
           {
            "colorbar": {
             "outlinewidth": 0,
             "ticks": ""
            },
            "colorscale": [
             [
              0,
              "#0d0887"
             ],
             [
              0.1111111111111111,
              "#46039f"
             ],
             [
              0.2222222222222222,
              "#7201a8"
             ],
             [
              0.3333333333333333,
              "#9c179e"
             ],
             [
              0.4444444444444444,
              "#bd3786"
             ],
             [
              0.5555555555555556,
              "#d8576b"
             ],
             [
              0.6666666666666666,
              "#ed7953"
             ],
             [
              0.7777777777777778,
              "#fb9f3a"
             ],
             [
              0.8888888888888888,
              "#fdca26"
             ],
             [
              1,
              "#f0f921"
             ]
            ],
            "type": "surface"
           }
          ],
          "table": [
           {
            "cells": {
             "fill": {
              "color": "#EBF0F8"
             },
             "line": {
              "color": "white"
             }
            },
            "header": {
             "fill": {
              "color": "#C8D4E3"
             },
             "line": {
              "color": "white"
             }
            },
            "type": "table"
           }
          ]
         },
         "layout": {
          "annotationdefaults": {
           "arrowcolor": "#2a3f5f",
           "arrowhead": 0,
           "arrowwidth": 1
          },
          "autotypenumbers": "strict",
          "coloraxis": {
           "colorbar": {
            "outlinewidth": 0,
            "ticks": ""
           }
          },
          "colorscale": {
           "diverging": [
            [
             0,
             "#8e0152"
            ],
            [
             0.1,
             "#c51b7d"
            ],
            [
             0.2,
             "#de77ae"
            ],
            [
             0.3,
             "#f1b6da"
            ],
            [
             0.4,
             "#fde0ef"
            ],
            [
             0.5,
             "#f7f7f7"
            ],
            [
             0.6,
             "#e6f5d0"
            ],
            [
             0.7,
             "#b8e186"
            ],
            [
             0.8,
             "#7fbc41"
            ],
            [
             0.9,
             "#4d9221"
            ],
            [
             1,
             "#276419"
            ]
           ],
           "sequential": [
            [
             0,
             "#0d0887"
            ],
            [
             0.1111111111111111,
             "#46039f"
            ],
            [
             0.2222222222222222,
             "#7201a8"
            ],
            [
             0.3333333333333333,
             "#9c179e"
            ],
            [
             0.4444444444444444,
             "#bd3786"
            ],
            [
             0.5555555555555556,
             "#d8576b"
            ],
            [
             0.6666666666666666,
             "#ed7953"
            ],
            [
             0.7777777777777778,
             "#fb9f3a"
            ],
            [
             0.8888888888888888,
             "#fdca26"
            ],
            [
             1,
             "#f0f921"
            ]
           ],
           "sequentialminus": [
            [
             0,
             "#0d0887"
            ],
            [
             0.1111111111111111,
             "#46039f"
            ],
            [
             0.2222222222222222,
             "#7201a8"
            ],
            [
             0.3333333333333333,
             "#9c179e"
            ],
            [
             0.4444444444444444,
             "#bd3786"
            ],
            [
             0.5555555555555556,
             "#d8576b"
            ],
            [
             0.6666666666666666,
             "#ed7953"
            ],
            [
             0.7777777777777778,
             "#fb9f3a"
            ],
            [
             0.8888888888888888,
             "#fdca26"
            ],
            [
             1,
             "#f0f921"
            ]
           ]
          },
          "colorway": [
           "#636efa",
           "#EF553B",
           "#00cc96",
           "#ab63fa",
           "#FFA15A",
           "#19d3f3",
           "#FF6692",
           "#B6E880",
           "#FF97FF",
           "#FECB52"
          ],
          "font": {
           "color": "#2a3f5f"
          },
          "geo": {
           "bgcolor": "white",
           "lakecolor": "white",
           "landcolor": "#E5ECF6",
           "showlakes": true,
           "showland": true,
           "subunitcolor": "white"
          },
          "hoverlabel": {
           "align": "left"
          },
          "hovermode": "closest",
          "mapbox": {
           "style": "light"
          },
          "paper_bgcolor": "white",
          "plot_bgcolor": "#E5ECF6",
          "polar": {
           "angularaxis": {
            "gridcolor": "white",
            "linecolor": "white",
            "ticks": ""
           },
           "bgcolor": "#E5ECF6",
           "radialaxis": {
            "gridcolor": "white",
            "linecolor": "white",
            "ticks": ""
           }
          },
          "scene": {
           "xaxis": {
            "backgroundcolor": "#E5ECF6",
            "gridcolor": "white",
            "gridwidth": 2,
            "linecolor": "white",
            "showbackground": true,
            "ticks": "",
            "zerolinecolor": "white"
           },
           "yaxis": {
            "backgroundcolor": "#E5ECF6",
            "gridcolor": "white",
            "gridwidth": 2,
            "linecolor": "white",
            "showbackground": true,
            "ticks": "",
            "zerolinecolor": "white"
           },
           "zaxis": {
            "backgroundcolor": "#E5ECF6",
            "gridcolor": "white",
            "gridwidth": 2,
            "linecolor": "white",
            "showbackground": true,
            "ticks": "",
            "zerolinecolor": "white"
           }
          },
          "shapedefaults": {
           "line": {
            "color": "#2a3f5f"
           }
          },
          "ternary": {
           "aaxis": {
            "gridcolor": "white",
            "linecolor": "white",
            "ticks": ""
           },
           "baxis": {
            "gridcolor": "white",
            "linecolor": "white",
            "ticks": ""
           },
           "bgcolor": "#E5ECF6",
           "caxis": {
            "gridcolor": "white",
            "linecolor": "white",
            "ticks": ""
           }
          },
          "title": {
           "x": 0.05
          },
          "xaxis": {
           "automargin": true,
           "gridcolor": "white",
           "linecolor": "white",
           "ticks": "",
           "title": {
            "standoff": 15
           },
           "zerolinecolor": "white",
           "zerolinewidth": 2
          },
          "yaxis": {
           "automargin": true,
           "gridcolor": "white",
           "linecolor": "white",
           "ticks": "",
           "title": {
            "standoff": 15
           },
           "zerolinecolor": "white",
           "zerolinewidth": 2
          }
         }
        },
        "title": {
         "text": "Greenhouse gas emission by stationary sectors in the Netherlands from 1990-2015"
        },
        "xaxis": {
         "anchor": "y",
         "domain": [
          0,
          0.2888888888888889
         ],
         "title": {
          "text": "Year"
         },
         "type": "category"
        },
        "xaxis2": {
         "anchor": "y2",
         "domain": [
          0.35555555555555557,
          0.6444444444444445
         ],
         "title": {
          "text": "Year"
         }
        },
        "xaxis3": {
         "anchor": "y3",
         "domain": [
          0.7111111111111111,
          1
         ],
         "title": {
          "text": "Year"
         }
        },
        "yaxis": {
         "anchor": "x",
         "domain": [
          0,
          1
         ],
         "title": {
          "text": "Emission in mln kg"
         },
         "type": "log"
        },
        "yaxis2": {
         "anchor": "x2",
         "domain": [
          0,
          1
         ],
         "type": "log"
        },
        "yaxis3": {
         "anchor": "x3",
         "domain": [
          0,
          1
         ],
         "type": "log"
        }
       }
      }
     },
     "metadata": {},
     "output_type": "display_data"
    }
   ],
   "source": [
    "import pandas as pd\n",
    "import plotly.graph_objs as go\n",
    "import plotly.express as px\n",
    "from plotly.subplots import make_subplots\n",
    "\n",
    "df_greenhouse = pd.read_csv(\"../datasets/IPCC_emissions.csv\", sep=';')\n",
    "\n",
    "petroleum = df_greenhouse[(df_greenhouse['Bronnen'] == \"320300   \") & df_greenhouse['Perioden'].isin([\"1990JJ00\", \"1995JJ00\", \"2000JJ00\", \"2005JJ00\", \"2010JJ00\", \"2015JJ00\"])]\n",
    "energy = df_greenhouse[(df_greenhouse['Bronnen'] == \"346700   \") & df_greenhouse['Perioden'].isin([\"1990JJ00\", \"1995JJ00\", \"2000JJ00\", \"2005JJ00\", \"2010JJ00\", \"2015JJ00\"])]\n",
    "agriculture = df_greenhouse[(df_greenhouse['Bronnen'] == \"301100   \") & df_greenhouse['Perioden'].isin([\"1990JJ00\", \"1995JJ00\", \"2000JJ00\", \"2005JJ00\", \"2010JJ00\", \"2015JJ00\"])]\n",
    "\n",
    "layout = go.Layout(\n",
    "    xaxis=go.layout.XAxis(\n",
    "        title = \"Year\",\n",
    "        type='category'\n",
    "    ),\n",
    "    yaxis=go.layout.YAxis(\n",
    "        title = \"Emission in mln kg\",\n",
    "        type = 'log'\n",
    "    ),\n",
    "    barmode = 'stack',\n",
    "    title = \"Greenhouse gas emission by stationary sectors in the Netherlands from 1990-2015\",\n",
    "    height = 600\n",
    ")\n",
    "\n",
    "fig = make_subplots(rows=1, cols=3, subplot_titles=['Petroleum', 'Energy', 'Agriculture'])\n",
    "periods = [1990, 1995, 2000, 2005, 2010, 2015]\n",
    "\n",
    "# Add traces for petroleum\n",
    "fig.add_trace(go.Bar(x=periods, y=petroleum['CO2_1'], name='CO2', marker=dict(color='#db5c68')), row=1, col=1)\n",
    "fig.add_trace(go.Bar(x=periods, y=petroleum['N2O_3'], name='N2O', marker=dict(color='#8b0aa5')), row=1, col=1)\n",
    "fig.update_yaxes(type=\"log\", row=1, col=1)\n",
    "\n",
    "# Add traces for energy\n",
    "fig.add_trace(go.Bar(x=periods, y=energy['CO2_1'], name='CO2', marker=dict(color='#db5c68'), showlegend = False), row=1, col=2)\n",
    "fig.add_trace(go.Bar(x=periods, y=energy['N2O_3'], name='N2O', marker=dict(color='#8b0aa5'), showlegend = False), row=1, col=2)\n",
    "fig.update_yaxes(type=\"log\", row=1, col=2)\n",
    "\n",
    "# Add traces for each stacked bar plot\n",
    "fig.add_trace(go.Bar(x=periods, y=agriculture['CO2_1'], name='CO2', marker=dict(color='#db5c68'), showlegend = False,), row=1, col=3)\n",
    "fig.add_trace(go.Bar(x=periods, y=agriculture['N2O_3'], name='N2O', marker=dict(color='#8b0aa5'), showlegend = False), row=1, col=3)\n",
    "fig.update_yaxes(type=\"log\", row=1, col=3)\n",
    "\n",
    "fig.update_xaxes(title='Year')\n",
    "\n",
    "# Update layout for the subplots\n",
    "fig.update_layout(layout)\n",
    "\n",
    "# Display the figure\n",
    "fig.show()\n",
    "\n",
    "## possible version\n",
    "# layout = go.Layout(\n",
    "#     xaxis=go.layout.XAxis(\n",
    "#         title = \"Year\",\n",
    "#         type='category'\n",
    "#     ),\n",
    "#     yaxis=go.layout.YAxis(\n",
    "#         title = \"Emission in mln kg\",\n",
    "#     ),\n",
    "#     barmode = 'stack',\n",
    "#     title = \"Greenhouse gas emission by stationary sectors in the Netherlands from 1990-2015\",\n",
    "#     height = 600\n",
    "# )\n",
    "\n",
    "# fig = make_subplots(rows=1, cols=2, subplot_titles=['N2O Emission', 'CO2 Emission'])\n",
    "# periods = [1990, 1995, 2000, 2005, 2010, 2015]\n",
    "\n",
    "# fig.add_trace(go.Bar(x=periods, y=petroleum['N2O_3'], name='Petroleum', marker=dict(color='#31CFE1')), row=1, col=1)\n",
    "# fig.add_trace(go.Bar(x=periods, y=energy['N2O_3'], name='Energy', marker=dict(color='#E13731')), row=1, col=1)\n",
    "# fig.add_trace(go.Bar(x=periods, y=agriculture['N2O_3'], name='Agriculture', marker=dict(color='#4A2BB0')), row=1, col=1)\n",
    "\n",
    "# fig.add_trace(go.Bar(x=periods, y=petroleum['CO2_1'], name='Petroleum', marker=dict(color='#31CFE1'), showlegend = False), row=1, col=2)\n",
    "# fig.add_trace(go.Bar(x=periods, y=energy['CO2_1'], name='Energy', marker=dict(color='#E13731'), showlegend = False), row=1, col=2)\n",
    "# fig.add_trace(go.Bar(x=periods, y=agriculture['CO2_1'], name='Agriculture', marker=dict(color='#4A2BB0'), showlegend = False), row=1, col=2)\n",
    "\n",
    "# fig.update_xaxes(title='Year')\n",
    "# fig.update_layout(layout)\n",
    "# fig.show()"
   ]
  },
  {
   "attachments": {},
   "cell_type": "markdown",
   "metadata": {},
   "source": [
    "#### Figure 5 : Greenhouse gas emission per sector\n",
    "This figure shows the greenhouse gas emissions of the gases N2O and CO2 in the Netherlands in million kilograms over the course of 25 years in the Netherlands by three sectors: petroleum, energy and agriculture. You can see that the agriculture sector emits less greenhouse gases than the other sectors, and the emissions in the agriculture sector do not increase over time, like in the energy sector. "
   ]
  },
  {
   "attachments": {},
   "cell_type": "markdown",
   "metadata": {},
   "source": [
    "## Increasing N2O emission by agricultural companies\n",
    "\n",
    "To continue, as you can see in figure 6 below, the number of agricultural companies and companies holding livestock in the Netherlands are decreasing over time. This decrease seems to follow a similar trend to nitrous oxide emission by the agriculture sector, but if you compare the numbers displayed in both graphs, you see a very different story. The emission per 1000 agricultural companies has been consistently increasing over the past few years, even if the number of companies is shrinking. This increase is especially apparent in corporations holding livestock, as there is an increase in the production of manure as a result of cattle breeding <a hfref='https://www.knmi.nl/over-het-knmi/nieuws/broeikasgas-n2o-neemt-versneld-toe\n",
    "'>(KNMI, 2022)</a>.  \n",
    "\n",
    "This is not a good sign, as N2O emission is damaging to the local plants and insects, and an increase in emission per company is indicative of an increasing emission in very small areas. This means that the nature around farms holding livestock is increasingly more affected by emission. In order to protect the biodiversity around farms, agricultural companies in livestock should be minimizing their N2O output, and a mandate by the government to obtain this decrease in emission is fully in order."
   ]
  },
  {
   "cell_type": "code",
   "execution_count": 19,
   "metadata": {
    "tags": [
     "hide-input"
    ]
   },
   "outputs": [
    {
     "data": {
      "application/vnd.plotly.v1+json": {
       "config": {
        "plotlyServerURL": "https://plot.ly"
       },
       "data": [
        {
         "marker": {
          "color": "#fba238"
         },
         "mode": "lines+markers",
         "name": "All Companies",
         "type": "scatter",
         "x": [
          1990,
          2000,
          2014,
          2015,
          2016,
          2017
         ],
         "xaxis": "x",
         "y": [
          "125",
          "97",
          "66",
          "64",
          "56",
          "55"
         ],
         "yaxis": "y"
        },
        {
         "marker": {
          "color": "#e97158"
         },
         "mode": "lines+markers",
         "name": "Livestock Companies",
         "type": "scatter",
         "x": [
          1990,
          2000,
          2014,
          2015,
          2016,
          2017
         ],
         "xaxis": "x",
         "y": [
          93,
          61,
          35,
          34,
          32,
          30
         ],
         "yaxis": "y"
        },
        {
         "marker": {
          "color": "#5302a3"
         },
         "mode": "lines+markers",
         "name": "N2O Emission",
         "type": "scatter",
         "x": [
          1990,
          2000,
          2014,
          2015,
          2016,
          2017
         ],
         "xaxis": "x",
         "y": [
          34.1,
          27.89,
          20.58,
          21.19,
          21.14,
          21.1
         ],
         "yaxis": "y2"
        },
        {
         "marker": {
          "color": "#fada24"
         },
         "name": "N2O/All",
         "type": "scatter",
         "x": [
          1990,
          2000,
          2014,
          2015,
          2016,
          2017
         ],
         "xaxis": "x2",
         "y": [
          0.2728,
          0.2875257731958763,
          0.31181818181818177,
          0.33109375,
          0.3775,
          0.38363636363636366
         ],
         "yaxis": "y3"
        },
        {
         "marker": {
          "color": "#b83289"
         },
         "name": "N2O/Livestock",
         "type": "scatter",
         "x": [
          1990,
          2000,
          2014,
          2015,
          2016,
          2017
         ],
         "xaxis": "x2",
         "y": [
          0.3666666666666667,
          0.45721311475409837,
          0.588,
          0.6232352941176471,
          0.660625,
          0.7033333333333334
         ],
         "yaxis": "y3"
        }
       ],
       "layout": {
        "annotations": [
         {
          "font": {
           "size": 16
          },
          "showarrow": false,
          "text": "Agricultural companies and N2O emission",
          "x": 0.47,
          "xanchor": "center",
          "xref": "paper",
          "y": 1,
          "yanchor": "bottom",
          "yref": "paper"
         },
         {
          "font": {
           "size": 16
          },
          "showarrow": false,
          "text": "Emission per 1000 companies",
          "x": 0.47,
          "xanchor": "center",
          "xref": "paper",
          "y": 0.375,
          "yanchor": "bottom",
          "yref": "paper"
         }
        ],
        "autotypenumbers": "convert types",
        "height": 600,
        "legend": {
         "y": 0.5
        },
        "template": {
         "data": {
          "bar": [
           {
            "error_x": {
             "color": "#2a3f5f"
            },
            "error_y": {
             "color": "#2a3f5f"
            },
            "marker": {
             "line": {
              "color": "#E5ECF6",
              "width": 0.5
             },
             "pattern": {
              "fillmode": "overlay",
              "size": 10,
              "solidity": 0.2
             }
            },
            "type": "bar"
           }
          ],
          "barpolar": [
           {
            "marker": {
             "line": {
              "color": "#E5ECF6",
              "width": 0.5
             },
             "pattern": {
              "fillmode": "overlay",
              "size": 10,
              "solidity": 0.2
             }
            },
            "type": "barpolar"
           }
          ],
          "carpet": [
           {
            "aaxis": {
             "endlinecolor": "#2a3f5f",
             "gridcolor": "white",
             "linecolor": "white",
             "minorgridcolor": "white",
             "startlinecolor": "#2a3f5f"
            },
            "baxis": {
             "endlinecolor": "#2a3f5f",
             "gridcolor": "white",
             "linecolor": "white",
             "minorgridcolor": "white",
             "startlinecolor": "#2a3f5f"
            },
            "type": "carpet"
           }
          ],
          "choropleth": [
           {
            "colorbar": {
             "outlinewidth": 0,
             "ticks": ""
            },
            "type": "choropleth"
           }
          ],
          "contour": [
           {
            "colorbar": {
             "outlinewidth": 0,
             "ticks": ""
            },
            "colorscale": [
             [
              0,
              "#0d0887"
             ],
             [
              0.1111111111111111,
              "#46039f"
             ],
             [
              0.2222222222222222,
              "#7201a8"
             ],
             [
              0.3333333333333333,
              "#9c179e"
             ],
             [
              0.4444444444444444,
              "#bd3786"
             ],
             [
              0.5555555555555556,
              "#d8576b"
             ],
             [
              0.6666666666666666,
              "#ed7953"
             ],
             [
              0.7777777777777778,
              "#fb9f3a"
             ],
             [
              0.8888888888888888,
              "#fdca26"
             ],
             [
              1,
              "#f0f921"
             ]
            ],
            "type": "contour"
           }
          ],
          "contourcarpet": [
           {
            "colorbar": {
             "outlinewidth": 0,
             "ticks": ""
            },
            "type": "contourcarpet"
           }
          ],
          "heatmap": [
           {
            "colorbar": {
             "outlinewidth": 0,
             "ticks": ""
            },
            "colorscale": [
             [
              0,
              "#0d0887"
             ],
             [
              0.1111111111111111,
              "#46039f"
             ],
             [
              0.2222222222222222,
              "#7201a8"
             ],
             [
              0.3333333333333333,
              "#9c179e"
             ],
             [
              0.4444444444444444,
              "#bd3786"
             ],
             [
              0.5555555555555556,
              "#d8576b"
             ],
             [
              0.6666666666666666,
              "#ed7953"
             ],
             [
              0.7777777777777778,
              "#fb9f3a"
             ],
             [
              0.8888888888888888,
              "#fdca26"
             ],
             [
              1,
              "#f0f921"
             ]
            ],
            "type": "heatmap"
           }
          ],
          "heatmapgl": [
           {
            "colorbar": {
             "outlinewidth": 0,
             "ticks": ""
            },
            "colorscale": [
             [
              0,
              "#0d0887"
             ],
             [
              0.1111111111111111,
              "#46039f"
             ],
             [
              0.2222222222222222,
              "#7201a8"
             ],
             [
              0.3333333333333333,
              "#9c179e"
             ],
             [
              0.4444444444444444,
              "#bd3786"
             ],
             [
              0.5555555555555556,
              "#d8576b"
             ],
             [
              0.6666666666666666,
              "#ed7953"
             ],
             [
              0.7777777777777778,
              "#fb9f3a"
             ],
             [
              0.8888888888888888,
              "#fdca26"
             ],
             [
              1,
              "#f0f921"
             ]
            ],
            "type": "heatmapgl"
           }
          ],
          "histogram": [
           {
            "marker": {
             "pattern": {
              "fillmode": "overlay",
              "size": 10,
              "solidity": 0.2
             }
            },
            "type": "histogram"
           }
          ],
          "histogram2d": [
           {
            "colorbar": {
             "outlinewidth": 0,
             "ticks": ""
            },
            "colorscale": [
             [
              0,
              "#0d0887"
             ],
             [
              0.1111111111111111,
              "#46039f"
             ],
             [
              0.2222222222222222,
              "#7201a8"
             ],
             [
              0.3333333333333333,
              "#9c179e"
             ],
             [
              0.4444444444444444,
              "#bd3786"
             ],
             [
              0.5555555555555556,
              "#d8576b"
             ],
             [
              0.6666666666666666,
              "#ed7953"
             ],
             [
              0.7777777777777778,
              "#fb9f3a"
             ],
             [
              0.8888888888888888,
              "#fdca26"
             ],
             [
              1,
              "#f0f921"
             ]
            ],
            "type": "histogram2d"
           }
          ],
          "histogram2dcontour": [
           {
            "colorbar": {
             "outlinewidth": 0,
             "ticks": ""
            },
            "colorscale": [
             [
              0,
              "#0d0887"
             ],
             [
              0.1111111111111111,
              "#46039f"
             ],
             [
              0.2222222222222222,
              "#7201a8"
             ],
             [
              0.3333333333333333,
              "#9c179e"
             ],
             [
              0.4444444444444444,
              "#bd3786"
             ],
             [
              0.5555555555555556,
              "#d8576b"
             ],
             [
              0.6666666666666666,
              "#ed7953"
             ],
             [
              0.7777777777777778,
              "#fb9f3a"
             ],
             [
              0.8888888888888888,
              "#fdca26"
             ],
             [
              1,
              "#f0f921"
             ]
            ],
            "type": "histogram2dcontour"
           }
          ],
          "mesh3d": [
           {
            "colorbar": {
             "outlinewidth": 0,
             "ticks": ""
            },
            "type": "mesh3d"
           }
          ],
          "parcoords": [
           {
            "line": {
             "colorbar": {
              "outlinewidth": 0,
              "ticks": ""
             }
            },
            "type": "parcoords"
           }
          ],
          "pie": [
           {
            "automargin": true,
            "type": "pie"
           }
          ],
          "scatter": [
           {
            "fillpattern": {
             "fillmode": "overlay",
             "size": 10,
             "solidity": 0.2
            },
            "type": "scatter"
           }
          ],
          "scatter3d": [
           {
            "line": {
             "colorbar": {
              "outlinewidth": 0,
              "ticks": ""
             }
            },
            "marker": {
             "colorbar": {
              "outlinewidth": 0,
              "ticks": ""
             }
            },
            "type": "scatter3d"
           }
          ],
          "scattercarpet": [
           {
            "marker": {
             "colorbar": {
              "outlinewidth": 0,
              "ticks": ""
             }
            },
            "type": "scattercarpet"
           }
          ],
          "scattergeo": [
           {
            "marker": {
             "colorbar": {
              "outlinewidth": 0,
              "ticks": ""
             }
            },
            "type": "scattergeo"
           }
          ],
          "scattergl": [
           {
            "marker": {
             "colorbar": {
              "outlinewidth": 0,
              "ticks": ""
             }
            },
            "type": "scattergl"
           }
          ],
          "scattermapbox": [
           {
            "marker": {
             "colorbar": {
              "outlinewidth": 0,
              "ticks": ""
             }
            },
            "type": "scattermapbox"
           }
          ],
          "scatterpolar": [
           {
            "marker": {
             "colorbar": {
              "outlinewidth": 0,
              "ticks": ""
             }
            },
            "type": "scatterpolar"
           }
          ],
          "scatterpolargl": [
           {
            "marker": {
             "colorbar": {
              "outlinewidth": 0,
              "ticks": ""
             }
            },
            "type": "scatterpolargl"
           }
          ],
          "scatterternary": [
           {
            "marker": {
             "colorbar": {
              "outlinewidth": 0,
              "ticks": ""
             }
            },
            "type": "scatterternary"
           }
          ],
          "surface": [
           {
            "colorbar": {
             "outlinewidth": 0,
             "ticks": ""
            },
            "colorscale": [
             [
              0,
              "#0d0887"
             ],
             [
              0.1111111111111111,
              "#46039f"
             ],
             [
              0.2222222222222222,
              "#7201a8"
             ],
             [
              0.3333333333333333,
              "#9c179e"
             ],
             [
              0.4444444444444444,
              "#bd3786"
             ],
             [
              0.5555555555555556,
              "#d8576b"
             ],
             [
              0.6666666666666666,
              "#ed7953"
             ],
             [
              0.7777777777777778,
              "#fb9f3a"
             ],
             [
              0.8888888888888888,
              "#fdca26"
             ],
             [
              1,
              "#f0f921"
             ]
            ],
            "type": "surface"
           }
          ],
          "table": [
           {
            "cells": {
             "fill": {
              "color": "#EBF0F8"
             },
             "line": {
              "color": "white"
             }
            },
            "header": {
             "fill": {
              "color": "#C8D4E3"
             },
             "line": {
              "color": "white"
             }
            },
            "type": "table"
           }
          ]
         },
         "layout": {
          "annotationdefaults": {
           "arrowcolor": "#2a3f5f",
           "arrowhead": 0,
           "arrowwidth": 1
          },
          "autotypenumbers": "strict",
          "coloraxis": {
           "colorbar": {
            "outlinewidth": 0,
            "ticks": ""
           }
          },
          "colorscale": {
           "diverging": [
            [
             0,
             "#8e0152"
            ],
            [
             0.1,
             "#c51b7d"
            ],
            [
             0.2,
             "#de77ae"
            ],
            [
             0.3,
             "#f1b6da"
            ],
            [
             0.4,
             "#fde0ef"
            ],
            [
             0.5,
             "#f7f7f7"
            ],
            [
             0.6,
             "#e6f5d0"
            ],
            [
             0.7,
             "#b8e186"
            ],
            [
             0.8,
             "#7fbc41"
            ],
            [
             0.9,
             "#4d9221"
            ],
            [
             1,
             "#276419"
            ]
           ],
           "sequential": [
            [
             0,
             "#0d0887"
            ],
            [
             0.1111111111111111,
             "#46039f"
            ],
            [
             0.2222222222222222,
             "#7201a8"
            ],
            [
             0.3333333333333333,
             "#9c179e"
            ],
            [
             0.4444444444444444,
             "#bd3786"
            ],
            [
             0.5555555555555556,
             "#d8576b"
            ],
            [
             0.6666666666666666,
             "#ed7953"
            ],
            [
             0.7777777777777778,
             "#fb9f3a"
            ],
            [
             0.8888888888888888,
             "#fdca26"
            ],
            [
             1,
             "#f0f921"
            ]
           ],
           "sequentialminus": [
            [
             0,
             "#0d0887"
            ],
            [
             0.1111111111111111,
             "#46039f"
            ],
            [
             0.2222222222222222,
             "#7201a8"
            ],
            [
             0.3333333333333333,
             "#9c179e"
            ],
            [
             0.4444444444444444,
             "#bd3786"
            ],
            [
             0.5555555555555556,
             "#d8576b"
            ],
            [
             0.6666666666666666,
             "#ed7953"
            ],
            [
             0.7777777777777778,
             "#fb9f3a"
            ],
            [
             0.8888888888888888,
             "#fdca26"
            ],
            [
             1,
             "#f0f921"
            ]
           ]
          },
          "colorway": [
           "#636efa",
           "#EF553B",
           "#00cc96",
           "#ab63fa",
           "#FFA15A",
           "#19d3f3",
           "#FF6692",
           "#B6E880",
           "#FF97FF",
           "#FECB52"
          ],
          "font": {
           "color": "#2a3f5f"
          },
          "geo": {
           "bgcolor": "white",
           "lakecolor": "white",
           "landcolor": "#E5ECF6",
           "showlakes": true,
           "showland": true,
           "subunitcolor": "white"
          },
          "hoverlabel": {
           "align": "left"
          },
          "hovermode": "closest",
          "mapbox": {
           "style": "light"
          },
          "paper_bgcolor": "white",
          "plot_bgcolor": "#E5ECF6",
          "polar": {
           "angularaxis": {
            "gridcolor": "white",
            "linecolor": "white",
            "ticks": ""
           },
           "bgcolor": "#E5ECF6",
           "radialaxis": {
            "gridcolor": "white",
            "linecolor": "white",
            "ticks": ""
           }
          },
          "scene": {
           "xaxis": {
            "backgroundcolor": "#E5ECF6",
            "gridcolor": "white",
            "gridwidth": 2,
            "linecolor": "white",
            "showbackground": true,
            "ticks": "",
            "zerolinecolor": "white"
           },
           "yaxis": {
            "backgroundcolor": "#E5ECF6",
            "gridcolor": "white",
            "gridwidth": 2,
            "linecolor": "white",
            "showbackground": true,
            "ticks": "",
            "zerolinecolor": "white"
           },
           "zaxis": {
            "backgroundcolor": "#E5ECF6",
            "gridcolor": "white",
            "gridwidth": 2,
            "linecolor": "white",
            "showbackground": true,
            "ticks": "",
            "zerolinecolor": "white"
           }
          },
          "shapedefaults": {
           "line": {
            "color": "#2a3f5f"
           }
          },
          "ternary": {
           "aaxis": {
            "gridcolor": "white",
            "linecolor": "white",
            "ticks": ""
           },
           "baxis": {
            "gridcolor": "white",
            "linecolor": "white",
            "ticks": ""
           },
           "bgcolor": "#E5ECF6",
           "caxis": {
            "gridcolor": "white",
            "linecolor": "white",
            "ticks": ""
           }
          },
          "title": {
           "x": 0.05
          },
          "xaxis": {
           "automargin": true,
           "gridcolor": "white",
           "linecolor": "white",
           "ticks": "",
           "title": {
            "standoff": 15
           },
           "zerolinecolor": "white",
           "zerolinewidth": 2
          },
          "yaxis": {
           "automargin": true,
           "gridcolor": "white",
           "linecolor": "white",
           "ticks": "",
           "title": {
            "standoff": 15
           },
           "zerolinecolor": "white",
           "zerolinewidth": 2
          }
         }
        },
        "title": {
         "text": "Number of agricultural companies in the Netherlands and their N2O Emission"
        },
        "xaxis": {
         "anchor": "y",
         "domain": [
          0,
          0.94
         ],
         "title": {
          "text": "Year"
         },
         "type": "category"
        },
        "xaxis2": {
         "anchor": "y3",
         "domain": [
          0,
          0.94
         ],
         "title": {
          "text": "Year"
         },
         "type": "category"
        },
        "yaxis": {
         "anchor": "x",
         "domain": [
          0.625,
          1
         ],
         "title": {
          "text": "Companies (x1000)"
         }
        },
        "yaxis2": {
         "anchor": "x",
         "overlaying": "y",
         "side": "right",
         "title": {
          "text": "Emission (mln kg)"
         }
        },
        "yaxis3": {
         "anchor": "x2",
         "domain": [
          0,
          0.375
         ],
         "title": {
          "text": "Emission (mln kg)"
         }
        },
        "yaxis4": {
         "anchor": "x2",
         "overlaying": "y3",
         "side": "right",
         "title": {
          "text": "Emission (mln kg)"
         }
        }
       }
      }
     },
     "metadata": {},
     "output_type": "display_data"
    }
   ],
   "source": [
    "df_farms = pd.read_csv(\"../datasets/table__71904ned.csv\")\n",
    "df_greenhouse = pd.read_csv(\"../datasets/IPCC_emissions.csv\", sep=';')\n",
    "agriculture = df_greenhouse[(df_greenhouse['Bronnen'] == \"301100   \")]\n",
    "\n",
    "df_new = pd.merge(df_farms, agriculture, on='Perioden')\n",
    "df_new['Bedrijven met vee'] = pd.to_numeric(df_new['Bedrijven met rundvee']) + pd.to_numeric(df_new['Bedrijven met varkens'])\n",
    "df_new['Relatie veebedrijf en N2O'] = pd.to_numeric(df_new['N2O_3'])/df_new['Bedrijven met vee']\n",
    "df_new['Relatie bedrijf en N2O'] = pd.to_numeric(df_new['N2O_3'])/pd.to_numeric(df_new['Bedrijven Alle bedrijven (x 1 000)'])\n",
    "\n",
    "periods = [1990, 2000, 2014, 2015, 2016, 2017]\n",
    "\n",
    "layout = go.Layout(\n",
    "    title='Number of agricultural companies in the Netherlands and their N2O Emission',\n",
    "    autotypenumbers='convert types',\n",
    "    xaxis=go.layout.XAxis(\n",
    "        type='category', title='Year'),\n",
    "    height=600,\n",
    "    legend={\"y\" : 0.5}\n",
    ")\n",
    "\n",
    "fig = make_subplots(rows=2, cols=1, subplot_titles=['Agricultural companies and N2O emission', 'Emission per 1000 companies'],\n",
    "                    specs=[[{\"secondary_y\": True}], [{\"secondary_y\": True}]])\n",
    "\n",
    "fig.add_trace(go.Scatter(x=periods, y=df_new['Bedrijven Alle bedrijven (x 1 000)'], marker=dict(color='#fba238'), mode='lines+markers', name='All Companies'),\n",
    "              row=1, col=1)\n",
    "fig.add_trace(go.Scatter(x=periods, y=df_new['Bedrijven met vee'], marker=dict(color='#e97158'), mode='lines+markers', name='Livestock Companies'),\n",
    "              row=1, col=1)\n",
    "fig.add_trace(go.Scatter(x=periods, y=df_new['N2O_3'], marker=dict(color='#5302a3'), mode='lines+markers', name='N2O Emission'), row=1, col=1, secondary_y=True)\n",
    "fig.update_xaxes(type='category', row=1, col=1)\n",
    "fig.update_yaxes(row=1, col=1, title='Companies (x1000)', secondary_y=False)\n",
    "fig.update_yaxes(row=1, col=1, title='Emission (mln kg)', secondary_y=True)\n",
    "\n",
    "fig.add_trace(go.Scatter(x=periods, y=df_new['Relatie bedrijf en N2O'], marker=dict(color='#fada24'), name='N2O/All'), row=2, col=1)\n",
    "fig.add_trace(go.Scatter(x=periods, y=df_new['Relatie veebedrijf en N2O'], marker=dict(color='#b83289'), name='N2O/Livestock'), row=2, col=1)\n",
    "fig.update_xaxes(type='category', title='Year', row=2, col=1)\n",
    "fig.update_yaxes(row=2, col=1, title='Emission (mln kg)')\n",
    "\n",
    "fig.update_layout(layout)\n",
    "fig.show()"
   ]
  },
  {
   "attachments": {},
   "cell_type": "markdown",
   "metadata": {},
   "source": [
    "#### Figure 6 : Number of agricultural companies compared to their N2O emission\n",
    "\n",
    "This visualization shows the number of agricultural companies (times 1000) in the Netherlands on the left side of the first graph, and the N2O emission in million kilograms of the agricultural sector in the Netherlands on the right side of the first graph. It seems as both graphs follow a similar trend, but if you look at the second graph, which shows the NO2 emission in million kilograms per 1000 companies, you see that farmers are emitting increasingly more N2O over time. "
   ]
  },
  {
   "attachments": {},
   "cell_type": "markdown",
   "metadata": {},
   "source": [
    "## Argument Figure 7 : Income from Agriculture (Sketch)\n",
    "In the visualisation we want to compare the total output value with the different variables meat/meatproduct, vegetables/fruit, grain, and eggs/dairy products. We want to display this data with a piechart. In the piechart you can see the percentage of the variables in comparison to the total value. With this piechart we want to show how much income there is made with meat/meat products. Then we want to discuss if the emission of the production of meat/meatproducts is justified by the amount of  income it generates.\n"
   ]
  },
  {
   "cell_type": "code",
   "execution_count": 20,
   "metadata": {
    "tags": [
     "hide-input"
    ]
   },
   "outputs": [],
   "source": [
    "# code figure 7"
   ]
  },
  {
   "attachments": {},
   "cell_type": "markdown",
   "metadata": {},
   "source": [
    "#### Figure 7 :\n",
    "caption"
   ]
  },
  {
   "attachments": {},
   "cell_type": "markdown",
   "metadata": {},
   "source": [
    "yabba yabba small conclusion"
   ]
  }
 ],
 "metadata": {
  "kernelspec": {
   "display_name": "jupyterbook",
   "language": "python",
   "name": "python3"
  },
  "language_info": {
   "codemirror_mode": {
    "name": "ipython",
    "version": 3
   },
   "file_extension": ".py",
   "mimetype": "text/x-python",
   "name": "python",
   "nbconvert_exporter": "python",
   "pygments_lexer": "ipython3",
   "version": "3.11.3"
  },
  "orig_nbformat": 4
 },
 "nbformat": 4,
 "nbformat_minor": 2
}
