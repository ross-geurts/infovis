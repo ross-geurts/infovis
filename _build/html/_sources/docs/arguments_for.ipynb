{
 "cells": [
  {
   "attachments": {},
   "cell_type": "markdown",
   "metadata": {},
   "source": [
    "# In Support of Agriculture"
   ]
  },
  {
   "cell_type": "code",
   "execution_count": 5,
   "metadata": {},
   "outputs": [],
   "source": [
    "import pandas as pd\n",
    "import plotly.graph_objs as go\n",
    "import plotly.express as px\n",
    "from plotly.subplots import make_subplots"
   ]
  },
  {
   "cell_type": "code",
   "execution_count": null,
   "metadata": {},
   "outputs": [],
   "source": [
    "from IPython.display import HTML\n",
    "\n",
    "HTML('''<script>\n",
    "code_show=true; \n",
    "function code_toggle() {\n",
    " if (code_show){\n",
    " $('div.input').hide();\n",
    " } else {\n",
    " $('div.input').show();\n",
    " }\n",
    " code_show = !code_show\n",
    "} \n",
    "$( document ).ready(code_toggle);\n",
    "</script>\n",
    "<form action=\"javascript:code_toggle()\"><input type=\"submit\" value=\"Click here to toggle on/off the raw code.\"></form>''')"
   ]
  },
  {
   "cell_type": "code",
   "execution_count": 6,
   "metadata": {
    "tags": [
     "hide_cell"
    ]
   },
   "outputs": [
    {
     "data": {
      "application/vnd.plotly.v1+json": {
       "config": {
        "plotlyServerURL": "https://plot.ly"
       },
       "data": [
        {
         "marker": {
          "color": "#31CFE1"
         },
         "name": "CO2",
         "type": "bar",
         "x": [
          1990,
          1995,
          2000,
          2005,
          2010,
          2015
         ],
         "xaxis": "x",
         "y": [
          11040,
          11620,
          12400,
          12380,
          10630,
          11040
         ],
         "yaxis": "y"
        },
        {
         "marker": {
          "color": "#E13731"
         },
         "name": "CH4",
         "type": "bar",
         "x": [
          1990,
          1995,
          2000,
          2005,
          2010,
          2015
         ],
         "xaxis": "x",
         "y": [
          1.13,
          1.03,
          0.9,
          0.87,
          1.03,
          0.89
         ],
         "yaxis": "y"
        },
        {
         "marker": {
          "color": "#4A2BB0"
         },
         "name": "N2O",
         "type": "bar",
         "x": [
          1990,
          1995,
          2000,
          2005,
          2010,
          2015
         ],
         "xaxis": "x",
         "y": [
          0.05,
          0.05,
          0.04,
          0.04,
          0.02,
          0.03
         ],
         "yaxis": "y"
        },
        {
         "marker": {
          "color": "#31CFE1"
         },
         "name": "CO2",
         "showlegend": false,
         "type": "bar",
         "x": [
          1990,
          1995,
          2000,
          2005,
          2010,
          2015
         ],
         "xaxis": "x2",
         "y": [
          39810,
          47890,
          48430,
          52230,
          52000,
          53190
         ],
         "yaxis": "y2"
        },
        {
         "marker": {
          "color": "#E13731"
         },
         "name": "CH4",
         "showlegend": false,
         "type": "bar",
         "x": [
          1990,
          1995,
          2000,
          2005,
          2010,
          2015
         ],
         "xaxis": "x2",
         "y": [
          18.37,
          18.57,
          18.41,
          21.63,
          21.51,
          15.43
         ],
         "yaxis": "y2"
        },
        {
         "marker": {
          "color": "#4A2BB0"
         },
         "name": "N2O",
         "showlegend": false,
         "type": "bar",
         "x": [
          1990,
          1995,
          2000,
          2005,
          2010,
          2015
         ],
         "xaxis": "x2",
         "y": [
          0.38,
          0.41,
          0.38,
          0.5,
          0.46,
          0.56
         ],
         "yaxis": "y2"
        },
        {
         "marker": {
          "color": "#31CFE1"
         },
         "name": "CO2",
         "showlegend": false,
         "type": "bar",
         "x": [
          1990,
          1995,
          2000,
          2005,
          2010,
          2015
         ],
         "xaxis": "x3",
         "y": [
          7740,
          8250,
          7490,
          7410,
          9510,
          7320
         ],
         "yaxis": "y3"
        },
        {
         "marker": {
          "color": "#E13731"
         },
         "name": "CH4",
         "showlegend": false,
         "type": "bar",
         "x": [
          1990,
          1995,
          2000,
          2005,
          2010,
          2015
         ],
         "xaxis": "x3",
         "y": [
          589.68,
          567.02,
          499.98,
          462.01,
          517.75,
          532.78
         ],
         "yaxis": "y3"
        },
        {
         "marker": {
          "color": "#4A2BB0"
         },
         "name": "N2O",
         "showlegend": false,
         "type": "bar",
         "x": [
          1990,
          1995,
          2000,
          2005,
          2010,
          2015
         ],
         "xaxis": "x3",
         "y": [
          34.1,
          33.83,
          27.89,
          23.52,
          20.97,
          21.19
         ],
         "yaxis": "y3"
        }
       ],
       "layout": {
        "annotations": [
         {
          "font": {
           "size": 16
          },
          "showarrow": false,
          "text": "Petroleum",
          "x": 0.14444444444444446,
          "xanchor": "center",
          "xref": "paper",
          "y": 1,
          "yanchor": "bottom",
          "yref": "paper"
         },
         {
          "font": {
           "size": 16
          },
          "showarrow": false,
          "text": "Energy",
          "x": 0.5,
          "xanchor": "center",
          "xref": "paper",
          "y": 1,
          "yanchor": "bottom",
          "yref": "paper"
         },
         {
          "font": {
           "size": 16
          },
          "showarrow": false,
          "text": "Agriculture",
          "x": 0.8555555555555556,
          "xanchor": "center",
          "xref": "paper",
          "y": 1,
          "yanchor": "bottom",
          "yref": "paper"
         }
        ],
        "barmode": "stack",
        "height": 600,
        "template": {
         "data": {
          "bar": [
           {
            "error_x": {
             "color": "#2a3f5f"
            },
            "error_y": {
             "color": "#2a3f5f"
            },
            "marker": {
             "line": {
              "color": "#E5ECF6",
              "width": 0.5
             },
             "pattern": {
              "fillmode": "overlay",
              "size": 10,
              "solidity": 0.2
             }
            },
            "type": "bar"
           }
          ],
          "barpolar": [
           {
            "marker": {
             "line": {
              "color": "#E5ECF6",
              "width": 0.5
             },
             "pattern": {
              "fillmode": "overlay",
              "size": 10,
              "solidity": 0.2
             }
            },
            "type": "barpolar"
           }
          ],
          "carpet": [
           {
            "aaxis": {
             "endlinecolor": "#2a3f5f",
             "gridcolor": "white",
             "linecolor": "white",
             "minorgridcolor": "white",
             "startlinecolor": "#2a3f5f"
            },
            "baxis": {
             "endlinecolor": "#2a3f5f",
             "gridcolor": "white",
             "linecolor": "white",
             "minorgridcolor": "white",
             "startlinecolor": "#2a3f5f"
            },
            "type": "carpet"
           }
          ],
          "choropleth": [
           {
            "colorbar": {
             "outlinewidth": 0,
             "ticks": ""
            },
            "type": "choropleth"
           }
          ],
          "contour": [
           {
            "colorbar": {
             "outlinewidth": 0,
             "ticks": ""
            },
            "colorscale": [
             [
              0,
              "#0d0887"
             ],
             [
              0.1111111111111111,
              "#46039f"
             ],
             [
              0.2222222222222222,
              "#7201a8"
             ],
             [
              0.3333333333333333,
              "#9c179e"
             ],
             [
              0.4444444444444444,
              "#bd3786"
             ],
             [
              0.5555555555555556,
              "#d8576b"
             ],
             [
              0.6666666666666666,
              "#ed7953"
             ],
             [
              0.7777777777777778,
              "#fb9f3a"
             ],
             [
              0.8888888888888888,
              "#fdca26"
             ],
             [
              1,
              "#f0f921"
             ]
            ],
            "type": "contour"
           }
          ],
          "contourcarpet": [
           {
            "colorbar": {
             "outlinewidth": 0,
             "ticks": ""
            },
            "type": "contourcarpet"
           }
          ],
          "heatmap": [
           {
            "colorbar": {
             "outlinewidth": 0,
             "ticks": ""
            },
            "colorscale": [
             [
              0,
              "#0d0887"
             ],
             [
              0.1111111111111111,
              "#46039f"
             ],
             [
              0.2222222222222222,
              "#7201a8"
             ],
             [
              0.3333333333333333,
              "#9c179e"
             ],
             [
              0.4444444444444444,
              "#bd3786"
             ],
             [
              0.5555555555555556,
              "#d8576b"
             ],
             [
              0.6666666666666666,
              "#ed7953"
             ],
             [
              0.7777777777777778,
              "#fb9f3a"
             ],
             [
              0.8888888888888888,
              "#fdca26"
             ],
             [
              1,
              "#f0f921"
             ]
            ],
            "type": "heatmap"
           }
          ],
          "heatmapgl": [
           {
            "colorbar": {
             "outlinewidth": 0,
             "ticks": ""
            },
            "colorscale": [
             [
              0,
              "#0d0887"
             ],
             [
              0.1111111111111111,
              "#46039f"
             ],
             [
              0.2222222222222222,
              "#7201a8"
             ],
             [
              0.3333333333333333,
              "#9c179e"
             ],
             [
              0.4444444444444444,
              "#bd3786"
             ],
             [
              0.5555555555555556,
              "#d8576b"
             ],
             [
              0.6666666666666666,
              "#ed7953"
             ],
             [
              0.7777777777777778,
              "#fb9f3a"
             ],
             [
              0.8888888888888888,
              "#fdca26"
             ],
             [
              1,
              "#f0f921"
             ]
            ],
            "type": "heatmapgl"
           }
          ],
          "histogram": [
           {
            "marker": {
             "pattern": {
              "fillmode": "overlay",
              "size": 10,
              "solidity": 0.2
             }
            },
            "type": "histogram"
           }
          ],
          "histogram2d": [
           {
            "colorbar": {
             "outlinewidth": 0,
             "ticks": ""
            },
            "colorscale": [
             [
              0,
              "#0d0887"
             ],
             [
              0.1111111111111111,
              "#46039f"
             ],
             [
              0.2222222222222222,
              "#7201a8"
             ],
             [
              0.3333333333333333,
              "#9c179e"
             ],
             [
              0.4444444444444444,
              "#bd3786"
             ],
             [
              0.5555555555555556,
              "#d8576b"
             ],
             [
              0.6666666666666666,
              "#ed7953"
             ],
             [
              0.7777777777777778,
              "#fb9f3a"
             ],
             [
              0.8888888888888888,
              "#fdca26"
             ],
             [
              1,
              "#f0f921"
             ]
            ],
            "type": "histogram2d"
           }
          ],
          "histogram2dcontour": [
           {
            "colorbar": {
             "outlinewidth": 0,
             "ticks": ""
            },
            "colorscale": [
             [
              0,
              "#0d0887"
             ],
             [
              0.1111111111111111,
              "#46039f"
             ],
             [
              0.2222222222222222,
              "#7201a8"
             ],
             [
              0.3333333333333333,
              "#9c179e"
             ],
             [
              0.4444444444444444,
              "#bd3786"
             ],
             [
              0.5555555555555556,
              "#d8576b"
             ],
             [
              0.6666666666666666,
              "#ed7953"
             ],
             [
              0.7777777777777778,
              "#fb9f3a"
             ],
             [
              0.8888888888888888,
              "#fdca26"
             ],
             [
              1,
              "#f0f921"
             ]
            ],
            "type": "histogram2dcontour"
           }
          ],
          "mesh3d": [
           {
            "colorbar": {
             "outlinewidth": 0,
             "ticks": ""
            },
            "type": "mesh3d"
           }
          ],
          "parcoords": [
           {
            "line": {
             "colorbar": {
              "outlinewidth": 0,
              "ticks": ""
             }
            },
            "type": "parcoords"
           }
          ],
          "pie": [
           {
            "automargin": true,
            "type": "pie"
           }
          ],
          "scatter": [
           {
            "fillpattern": {
             "fillmode": "overlay",
             "size": 10,
             "solidity": 0.2
            },
            "type": "scatter"
           }
          ],
          "scatter3d": [
           {
            "line": {
             "colorbar": {
              "outlinewidth": 0,
              "ticks": ""
             }
            },
            "marker": {
             "colorbar": {
              "outlinewidth": 0,
              "ticks": ""
             }
            },
            "type": "scatter3d"
           }
          ],
          "scattercarpet": [
           {
            "marker": {
             "colorbar": {
              "outlinewidth": 0,
              "ticks": ""
             }
            },
            "type": "scattercarpet"
           }
          ],
          "scattergeo": [
           {
            "marker": {
             "colorbar": {
              "outlinewidth": 0,
              "ticks": ""
             }
            },
            "type": "scattergeo"
           }
          ],
          "scattergl": [
           {
            "marker": {
             "colorbar": {
              "outlinewidth": 0,
              "ticks": ""
             }
            },
            "type": "scattergl"
           }
          ],
          "scattermapbox": [
           {
            "marker": {
             "colorbar": {
              "outlinewidth": 0,
              "ticks": ""
             }
            },
            "type": "scattermapbox"
           }
          ],
          "scatterpolar": [
           {
            "marker": {
             "colorbar": {
              "outlinewidth": 0,
              "ticks": ""
             }
            },
            "type": "scatterpolar"
           }
          ],
          "scatterpolargl": [
           {
            "marker": {
             "colorbar": {
              "outlinewidth": 0,
              "ticks": ""
             }
            },
            "type": "scatterpolargl"
           }
          ],
          "scatterternary": [
           {
            "marker": {
             "colorbar": {
              "outlinewidth": 0,
              "ticks": ""
             }
            },
            "type": "scatterternary"
           }
          ],
          "surface": [
           {
            "colorbar": {
             "outlinewidth": 0,
             "ticks": ""
            },
            "colorscale": [
             [
              0,
              "#0d0887"
             ],
             [
              0.1111111111111111,
              "#46039f"
             ],
             [
              0.2222222222222222,
              "#7201a8"
             ],
             [
              0.3333333333333333,
              "#9c179e"
             ],
             [
              0.4444444444444444,
              "#bd3786"
             ],
             [
              0.5555555555555556,
              "#d8576b"
             ],
             [
              0.6666666666666666,
              "#ed7953"
             ],
             [
              0.7777777777777778,
              "#fb9f3a"
             ],
             [
              0.8888888888888888,
              "#fdca26"
             ],
             [
              1,
              "#f0f921"
             ]
            ],
            "type": "surface"
           }
          ],
          "table": [
           {
            "cells": {
             "fill": {
              "color": "#EBF0F8"
             },
             "line": {
              "color": "white"
             }
            },
            "header": {
             "fill": {
              "color": "#C8D4E3"
             },
             "line": {
              "color": "white"
             }
            },
            "type": "table"
           }
          ]
         },
         "layout": {
          "annotationdefaults": {
           "arrowcolor": "#2a3f5f",
           "arrowhead": 0,
           "arrowwidth": 1
          },
          "autotypenumbers": "strict",
          "coloraxis": {
           "colorbar": {
            "outlinewidth": 0,
            "ticks": ""
           }
          },
          "colorscale": {
           "diverging": [
            [
             0,
             "#8e0152"
            ],
            [
             0.1,
             "#c51b7d"
            ],
            [
             0.2,
             "#de77ae"
            ],
            [
             0.3,
             "#f1b6da"
            ],
            [
             0.4,
             "#fde0ef"
            ],
            [
             0.5,
             "#f7f7f7"
            ],
            [
             0.6,
             "#e6f5d0"
            ],
            [
             0.7,
             "#b8e186"
            ],
            [
             0.8,
             "#7fbc41"
            ],
            [
             0.9,
             "#4d9221"
            ],
            [
             1,
             "#276419"
            ]
           ],
           "sequential": [
            [
             0,
             "#0d0887"
            ],
            [
             0.1111111111111111,
             "#46039f"
            ],
            [
             0.2222222222222222,
             "#7201a8"
            ],
            [
             0.3333333333333333,
             "#9c179e"
            ],
            [
             0.4444444444444444,
             "#bd3786"
            ],
            [
             0.5555555555555556,
             "#d8576b"
            ],
            [
             0.6666666666666666,
             "#ed7953"
            ],
            [
             0.7777777777777778,
             "#fb9f3a"
            ],
            [
             0.8888888888888888,
             "#fdca26"
            ],
            [
             1,
             "#f0f921"
            ]
           ],
           "sequentialminus": [
            [
             0,
             "#0d0887"
            ],
            [
             0.1111111111111111,
             "#46039f"
            ],
            [
             0.2222222222222222,
             "#7201a8"
            ],
            [
             0.3333333333333333,
             "#9c179e"
            ],
            [
             0.4444444444444444,
             "#bd3786"
            ],
            [
             0.5555555555555556,
             "#d8576b"
            ],
            [
             0.6666666666666666,
             "#ed7953"
            ],
            [
             0.7777777777777778,
             "#fb9f3a"
            ],
            [
             0.8888888888888888,
             "#fdca26"
            ],
            [
             1,
             "#f0f921"
            ]
           ]
          },
          "colorway": [
           "#636efa",
           "#EF553B",
           "#00cc96",
           "#ab63fa",
           "#FFA15A",
           "#19d3f3",
           "#FF6692",
           "#B6E880",
           "#FF97FF",
           "#FECB52"
          ],
          "font": {
           "color": "#2a3f5f"
          },
          "geo": {
           "bgcolor": "white",
           "lakecolor": "white",
           "landcolor": "#E5ECF6",
           "showlakes": true,
           "showland": true,
           "subunitcolor": "white"
          },
          "hoverlabel": {
           "align": "left"
          },
          "hovermode": "closest",
          "mapbox": {
           "style": "light"
          },
          "paper_bgcolor": "white",
          "plot_bgcolor": "#E5ECF6",
          "polar": {
           "angularaxis": {
            "gridcolor": "white",
            "linecolor": "white",
            "ticks": ""
           },
           "bgcolor": "#E5ECF6",
           "radialaxis": {
            "gridcolor": "white",
            "linecolor": "white",
            "ticks": ""
           }
          },
          "scene": {
           "xaxis": {
            "backgroundcolor": "#E5ECF6",
            "gridcolor": "white",
            "gridwidth": 2,
            "linecolor": "white",
            "showbackground": true,
            "ticks": "",
            "zerolinecolor": "white"
           },
           "yaxis": {
            "backgroundcolor": "#E5ECF6",
            "gridcolor": "white",
            "gridwidth": 2,
            "linecolor": "white",
            "showbackground": true,
            "ticks": "",
            "zerolinecolor": "white"
           },
           "zaxis": {
            "backgroundcolor": "#E5ECF6",
            "gridcolor": "white",
            "gridwidth": 2,
            "linecolor": "white",
            "showbackground": true,
            "ticks": "",
            "zerolinecolor": "white"
           }
          },
          "shapedefaults": {
           "line": {
            "color": "#2a3f5f"
           }
          },
          "ternary": {
           "aaxis": {
            "gridcolor": "white",
            "linecolor": "white",
            "ticks": ""
           },
           "baxis": {
            "gridcolor": "white",
            "linecolor": "white",
            "ticks": ""
           },
           "bgcolor": "#E5ECF6",
           "caxis": {
            "gridcolor": "white",
            "linecolor": "white",
            "ticks": ""
           }
          },
          "title": {
           "x": 0.05
          },
          "xaxis": {
           "automargin": true,
           "gridcolor": "white",
           "linecolor": "white",
           "ticks": "",
           "title": {
            "standoff": 15
           },
           "zerolinecolor": "white",
           "zerolinewidth": 2
          },
          "yaxis": {
           "automargin": true,
           "gridcolor": "white",
           "linecolor": "white",
           "ticks": "",
           "title": {
            "standoff": 15
           },
           "zerolinecolor": "white",
           "zerolinewidth": 2
          }
         }
        },
        "title": {
         "text": "Greenhouse gas emission by stationary sectors in the Netherlands from 1990-2015"
        },
        "xaxis": {
         "anchor": "y",
         "domain": [
          0,
          0.2888888888888889
         ],
         "title": {
          "text": "Year"
         },
         "type": "category"
        },
        "xaxis2": {
         "anchor": "y2",
         "domain": [
          0.35555555555555557,
          0.6444444444444445
         ]
        },
        "xaxis3": {
         "anchor": "y3",
         "domain": [
          0.7111111111111111,
          1
         ]
        },
        "yaxis": {
         "anchor": "x",
         "domain": [
          0,
          1
         ],
         "title": {
          "text": "Emission in mln kg"
         },
         "type": "log"
        },
        "yaxis2": {
         "anchor": "x2",
         "domain": [
          0,
          1
         ],
         "type": "log"
        },
        "yaxis3": {
         "anchor": "x3",
         "domain": [
          0,
          1
         ],
         "type": "log"
        }
       }
      }
     },
     "metadata": {},
     "output_type": "display_data"
    }
   ],
   "source": [
    "df_greenhouse = pd.read_csv(\"../datasets/IPCC_emissions.csv\", sep=';')\n",
    "\n",
    "petroleum = df_greenhouse[(df_greenhouse['Bronnen'] == \"320300   \") & df_greenhouse['Perioden'].isin([\"1990JJ00\", \"1995JJ00\", \"2000JJ00\", \"2005JJ00\", \"2010JJ00\", \"2015JJ00\"])]\n",
    "energy = df_greenhouse[(df_greenhouse['Bronnen'] == \"346700   \") & df_greenhouse['Perioden'].isin([\"1990JJ00\", \"1995JJ00\", \"2000JJ00\", \"2005JJ00\", \"2010JJ00\", \"2015JJ00\"])]\n",
    "agriculture = df_greenhouse[(df_greenhouse['Bronnen'] == \"301100   \") & df_greenhouse['Perioden'].isin([\"1990JJ00\", \"1995JJ00\", \"2000JJ00\", \"2005JJ00\", \"2010JJ00\", \"2015JJ00\"])]\n",
    "\n",
    "layout = go.Layout(\n",
    "    xaxis=go.layout.XAxis(\n",
    "        title = \"Year\",\n",
    "        type='category'\n",
    "    ),\n",
    "    yaxis=go.layout.YAxis(\n",
    "        title = \"Emission in mln kg\",\n",
    "        type = 'log'\n",
    "    ),\n",
    "    barmode = 'stack',\n",
    "    title = \"Greenhouse gas emission by stationary sectors in the Netherlands from 1990-2015\",\n",
    "    height = 600\n",
    ")\n",
    "\n",
    "fig = make_subplots(rows=1, cols=3, subplot_titles=['Petroleum', 'Energy', 'Agriculture'])\n",
    "periods = [1990, 1995, 2000, 2005, 2010, 2015]\n",
    "\n",
    "# Add traces for petroleum\n",
    "fig.add_trace(go.Bar(x=periods, y=petroleum['CO2_1'], name='CO2', marker=dict(color='#31CFE1')), row=1, col=1)\n",
    "fig.add_trace(go.Bar(x=periods, y=petroleum['CH4_2'], name='CH4', marker=dict(color='#E13731')), row=1, col=1)\n",
    "fig.add_trace(go.Bar(x=periods, y=petroleum['N2O_3'], name='N2O', marker=dict(color='#4A2BB0')), row=1, col=1)\n",
    "fig.update_yaxes(type=\"log\", row=1, col=1)\n",
    "\n",
    "# Add traces for energy\n",
    "fig.add_trace(go.Bar(x=periods, y=energy['CO2_1'], name='CO2', marker=dict(color='#31CFE1'), showlegend = False), row=1, col=2)\n",
    "fig.add_trace(go.Bar(x=periods, y=energy['CH4_2'], name='CH4', marker=dict(color='#E13731'), showlegend = False), row=1, col=2)\n",
    "fig.add_trace(go.Bar(x=periods, y=energy['N2O_3'], name='N2O', marker=dict(color='#4A2BB0'), showlegend = False), row=1, col=2)\n",
    "fig.update_yaxes(type=\"log\", row=1, col=2)\n",
    "\n",
    "# Add traces for each stacked bar plot\n",
    "fig.add_trace(go.Bar(x=periods, y=agriculture['CO2_1'], name='CO2', marker=dict(color='#31CFE1'), showlegend = False,), row=1, col=3)\n",
    "fig.add_trace(go.Bar(x=periods, y=agriculture['CH4_2'], name='CH4', marker=dict(color='#E13731'), showlegend = False), row=1, col=3)\n",
    "fig.add_trace(go.Bar(x=periods, y=agriculture['N2O_3'], name='N2O', marker=dict(color='#4A2BB0'), showlegend = False), row=1, col=3)\n",
    "fig.update_yaxes(type=\"log\", row=1, col=3)\n",
    "\n",
    "# Update layout for the subplots\n",
    "fig.update_layout(layout)\n",
    "\n",
    "# Display the figure\n",
    "fig.show()\n"
   ]
  },
  {
   "attachments": {},
   "cell_type": "markdown",
   "metadata": {},
   "source": [
    "## Figure 2: Greenhouse gas emission per sector\n",
    "This figure shows the greenhouse gas emissions in the Netherlands over the course of 25 years in the Netherlands by three sectors: petroleum, energy and agriculture. You can see that the agriculture sector emits less greenhouse gases than the other sectors, and the emissions in the agriculture sector do not increase over time, like in the energy sector. The energy sector also emits significantly more CO<sub>2</sub> than the other sectors, while the agriculture sector is starting to emit less CO<sub>2</sub> over time. The agriculture sector might not be as damaging to the climate as others might suggest. \n",
    "\n",
    "* agriculture sector emits more ch4 and n2o than other sectors, as others barely emit those gases\n",
    "    * is this good or bad? how much are you able to emit before it becomes damaging?\n",
    "    * n2o is 265 times as damaging as carbondioxide (found on <a href='https://www.epa.gov/ghgemissions/overview-greenhouse-gases'>epa.gov</a>)\n",
    "        * in 2015, 21.19 million kgs of nitrous oxide would be equal to 5615,35 million kgs of carbon dioxide, which would make the emission only a little more than the petroleum sector\n",
    "        * this means that no drastic changes should be necessary to reduce emissions "
   ]
  }
 ],
 "metadata": {
  "kernelspec": {
   "display_name": "jupyterbook",
   "language": "python",
   "name": "python3"
  },
  "language_info": {
   "codemirror_mode": {
    "name": "ipython",
    "version": 3
   },
   "file_extension": ".py",
   "mimetype": "text/x-python",
   "name": "python",
   "nbconvert_exporter": "python",
   "pygments_lexer": "ipython3",
   "version": "3.11.3"
  },
  "orig_nbformat": 4
 },
 "nbformat": 4,
 "nbformat_minor": 2
}
